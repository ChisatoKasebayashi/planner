{
 "cells": [
  {
   "cell_type": "code",
   "execution_count": 13,
   "id": "16c85e7c",
   "metadata": {},
   "outputs": [],
   "source": [
    "def stack(a, b):\n",
    "    pre = dict(hand = a, isTop = dict(a = False, b = True), on = dict(a = \"hand\"))\n",
    "    effect = dict(hand = \"\", isTop = dict(a = True, b = False), on = dict(a = b))\n",
    "    return makeAction(pre, effect)\n",
    "\n",
    "def pickup(a):\n",
    "    pre = dict(hand = \"\", isTop = dict(a = True), on = dict(a = \"table\"))\n",
    "    effect = dict(hand = a, isTop = dict(a = False), on = dict(a = \"hand\"))\n",
    "    return makeAction(pre, effect)\n",
    "\n",
    "def putdown(a):\n",
    "    pre = dict(hand = a, isTop = dict(a = False), on = dict(a = \"hand\"))\n",
    "    effect = dict(hand = \"\", isTop = dict(a = True), on = dict(a = \"table\"))\n",
    "    return makeAction(pre, effect)\n",
    "\n",
    "def unstack(a, b):\n",
    "    pre = dict(hand = a, isTop = dict(a = False, b = True), on = dict(a = b))\n",
    "    effect = dict(hand = a, isTop= dict(a = False, b = True), on = dict(a = \"hand\"))\n",
    "    makeAction(pre, effect)"
   ]
  },
  {
   "cell_type": "code",
   "execution_count": 15,
   "id": "7979317f",
   "metadata": {},
   "outputs": [],
   "source": [
    "def makeAction(precondition, effect, cost = 1):\n",
    "    return dict(precondition = precondition, effect = effect, cost = cost)\n",
    "\n",
    "def getDiffState(dest, src):\n",
    "    diff = {}\n",
    "    count = 0\n",
    "    for i,s in enumerate(dest):\n",
    "        if type(s) == \"dict\":\n",
    "            tbl, cnt = getDiffState(s, src[i])\n",
    "            if cnt > 0:\n",
    "                diff[i] = tbl\n",
    "                count = count + cnt\n",
    "        elif s != src[i]:\n",
    "            diff[i] = s\n",
    "            count = count +1\n",
    "    return diff, count"
   ]
  },
  {
   "cell_type": "code",
   "execution_count": 16,
   "id": "47c9dd30",
   "metadata": {},
   "outputs": [
    {
     "name": "stdout",
     "output_type": "stream",
     "text": [
      "['stack', {'precondition': {'hand': 'a', 'isTop': {'a': False, 'b': True}, 'on': {'a': 'hand'}}, 'effect': {'hand': '', 'isTop': {'a': True, 'b': False}, 'on': {'a': 'b'}}, 'cost': 1}]\n"
     ]
    }
   ],
   "source": [
    "domain = [[\"stack\", stack(\"a\", \"b\")],\n",
    "          [\"stack\", stack(\"a\", \"c\")],\n",
    "          [\"stack\", stack(\"a\", \"c\")],\n",
    "          [\"stack\", stack(\"a\", \"d\")],\n",
    "          [\"stack\", stack(\"b\", \"c\")],\n",
    "          [\"stack\", stack(\"b\", \"d\")],\n",
    "          [\"stack\", stack(\"c\", \"d\")],\n",
    "          [\"unstack\", unstack(\"a\", \"b\")],\n",
    "          [\"unstack\", unstack(\"a\", \"c\")],\n",
    "          [\"unstack\", unstack(\"a\", \"c\")],\n",
    "          [\"unstack\", unstack(\"a\", \"d\")],\n",
    "          [\"unstack\", unstack(\"b\", \"c\")],\n",
    "          [\"unstack\", unstack(\"b\", \"d\")],\n",
    "          [\"unstack\", unstack(\"c\", \"d\")],\n",
    "          [\"pickup\", pickup(\"a\")],\n",
    "          [\"pickup\", pickup(\"b\")],\n",
    "          [\"pickup\", pickup(\"c\")],\n",
    "          [\"pickup\", pickup(\"d\")],\n",
    "          [\"putdown\", putdown(\"a\")],\n",
    "          [\"putdown\", putdown(\"b\")],\n",
    "          [\"putdown\", putdown(\"c\")],\n",
    "          [\"putdown\", putdown(\"d\")]\n",
    "         ]\n",
    "print(domain[0])"
   ]
  },
  {
   "cell_type": "code",
   "execution_count": 11,
   "id": "12398379",
   "metadata": {},
   "outputs": [
    {
     "name": "stdout",
     "output_type": "stream",
     "text": [
      "{'precondition': {'hand': 'a', 'isTop': {'a': False, 'b': True}, 'on': {'a': 'hand'}}, 'effect': {'hand': '', 'isTop': {'a': True, 'b': False}, 'on': {'a': 'b'}}, 'cost': 1}\n"
     ]
    }
   ],
   "source": [
    "def searchPlan(domain, state, goal):\n",
    "    openlist = {}\n",
    "    closelist = {}\n",
    "    goal_node = {state = goal, cost = 0}\n",
    "    goal_node_diff, goal_node_diffcount =getDiffState(goal_node, state)\n",
    "    goal_node_score = goal_node_diffcount\n",
    "    openlist.append(goal_node)\n",
    "    \n",
    "    while len(openlist) > 0:\n",
    "        node = openlist.pop(0)\n",
    "        \n",
    "        if node_diffcount  == 0:\n",
    "            return node\n",
    "        \n",
    "        closelist.append(node)\n",
    "        \n",
    "        neighbors = getNeighborActions(domain, node)"
   ]
  },
  {
   "cell_type": "code",
   "execution_count": null,
   "id": "af04d510",
   "metadata": {},
   "outputs": [],
   "source": []
  }
 ],
 "metadata": {
  "kernelspec": {
   "display_name": "Python 3 (ipykernel)",
   "language": "python",
   "name": "python3"
  },
  "language_info": {
   "codemirror_mode": {
    "name": "ipython",
    "version": 3
   },
   "file_extension": ".py",
   "mimetype": "text/x-python",
   "name": "python",
   "nbconvert_exporter": "python",
   "pygments_lexer": "ipython3",
   "version": "3.9.7"
  }
 },
 "nbformat": 4,
 "nbformat_minor": 5
}
